{
 "cells": [
  {
   "cell_type": "code",
   "execution_count": 1,
   "id": "spiritual-helen",
   "metadata": {},
   "outputs": [],
   "source": [
    "import numpy as np\n",
    "import matplotlib.pyplot as plt\n",
    "%matplotlib inline\n",
    "import gym\n"
   ]
  },
  {
   "cell_type": "code",
   "execution_count": 2,
   "id": "modern-motel",
   "metadata": {},
   "outputs": [],
   "source": [
    "ENV = 'CartPole-v0'  # 使用する課題名\n",
    "NUM_DIZITIZED = 6 "
   ]
  },
  {
   "cell_type": "code",
   "execution_count": 3,
   "id": "structural-insight",
   "metadata": {},
   "outputs": [
    {
     "name": "stdout",
     "output_type": "stream",
     "text": [
      "\u001b[33mWARN: gym.spaces.Box autodetected dtype as <class 'numpy.float32'>. Please provide explicit dtype.\u001b[0m\n"
     ]
    },
    {
     "name": "stderr",
     "output_type": "stream",
     "text": [
      "D:\\anaconda3\\envs\\rlenv\\lib\\site-packages\\gym\\envs\\registration.py:14: PkgResourcesDeprecationWarning: Parameters to load are deprecated.  Call .resolve and .require separately.\n",
      "  result = entry_point.load(False)\n"
     ]
    }
   ],
   "source": [
    "env = gym.make(ENV)\n",
    "observation = env.reset()"
   ]
  },
  {
   "cell_type": "code",
   "execution_count": 4,
   "id": "closing-evans",
   "metadata": {},
   "outputs": [],
   "source": [
    "#离散化\n",
    "def bins(clpmin,clpmax,num):\n",
    "    return np.linspace(clpmin,clpmax,num+1)[1:-1]\n"
   ]
  },
  {
   "cell_type": "code",
   "execution_count": 5,
   "id": "attached-devil",
   "metadata": {},
   "outputs": [],
   "source": [
    "def digitize_state(observation):\n",
    "    pos, v, angle, w = observation\n",
    "    digitized = [\n",
    "        np.digitize(pos,bins=bins(-2.4,2.4,NUM_DIZITIZED)),\n",
    "        np.digitize(v,bins=bins(-3.0,3.0,NUM_DIZITIZED)),\n",
    "        np.digitize(angle,bins=bins(-0.5,0.5,NUM_DIZITIZED)),\n",
    "        np.digitize(w,bins=bins(-2.0,2.0,NUM_DIZITIZED))\n",
    "    ]\n",
    "    \n",
    "    return sum([x * (NUM_DIZITIZED**i) for i,x in enumerate(digitized)])"
   ]
  },
  {
   "cell_type": "code",
   "execution_count": 6,
   "id": "geological-daisy",
   "metadata": {},
   "outputs": [
    {
     "data": {
      "text/plain": [
       "519"
      ]
     },
     "execution_count": 6,
     "metadata": {},
     "output_type": "execute_result"
    }
   ],
   "source": [
    "digitize_state(observation)"
   ]
  },
  {
   "cell_type": "code",
   "execution_count": null,
   "id": "former-memory",
   "metadata": {},
   "outputs": [],
   "source": []
  }
 ],
 "metadata": {
  "kernelspec": {
   "display_name": "Python 3",
   "language": "python",
   "name": "python3"
  },
  "language_info": {
   "codemirror_mode": {
    "name": "ipython",
    "version": 3
   },
   "file_extension": ".py",
   "mimetype": "text/x-python",
   "name": "python",
   "nbconvert_exporter": "python",
   "pygments_lexer": "ipython3",
   "version": "3.6.13"
  }
 },
 "nbformat": 4,
 "nbformat_minor": 5
}
